{
  "nbformat": 4,
  "nbformat_minor": 0,
  "metadata": {
    "colab": {
      "provenance": [],
      "authorship_tag": "ABX9TyMJSWML0iXbF7DdIK2Hr++S",
      "include_colab_link": true
    },
    "kernelspec": {
      "name": "python3",
      "display_name": "Python 3"
    },
    "language_info": {
      "name": "python"
    }
  },
  "cells": [
    {
      "cell_type": "markdown",
      "metadata": {
        "id": "view-in-github",
        "colab_type": "text"
      },
      "source": [
        "<a href=\"https://colab.research.google.com/github/NadiaHolmlund/BDS_M3_Exam_Notes.ipynb/blob/main/BDS_M3_Exam_Notes.ipynb\" target=\"_parent\"><img src=\"https://colab.research.google.com/assets/colab-badge.svg\" alt=\"Open In Colab\"/></a>"
      ]
    },
    {
      "cell_type": "markdown",
      "source": [
        "# Theme 1: Business Strategy and Business Modelling for Data Science"
      ],
      "metadata": {
        "id": "9mGzbNRxYJHm"
      }
    },
    {
      "cell_type": "markdown",
      "source": [
        "## Session 1"
      ],
      "metadata": {
        "id": "XfqT2BRyYPu8"
      }
    },
    {
      "cell_type": "markdown",
      "source": [
        "Market Opportunity Recognition – Where to play\n",
        "\n",
        "This session walks the participants to familiarize with the problem of opportunity recognition, which is a central element of developing entrepreneurial projects. Participants will be offered to learn a set of new tools that would support them provide an answer to these questions:\n",
        "- How is it possible, starting from the data-projects we are working on, to identify relevant opportunities?\n",
        "- How is it possible to compare them in terms of relative market attractiveness?\n",
        "- On the basis of their attractiveness, how to prioritize among them?"
      ],
      "metadata": {
        "id": "E3dZWm54YLAP"
      }
    },
    {
      "cell_type": "markdown",
      "source": [
        "## The Market Opportunity Navigator"
      ],
      "metadata": {
        "id": "OwY985IBYbG7"
      }
    },
    {
      "cell_type": "markdown",
      "source": [
        "![](https://raw.github.com/NadiaHolmlund/BDS_M3_Exam_Notes.ipynb/main/Images/figure-2.jpg)\n",
        "\n",
        "![](https://raw.github.com/NadiaHolmlund/BDS_M3_Exam_Notes.ipynb/main/Images/opportunity-set-png.png)\n",
        "\n",
        "![](https://raw.github.com/NadiaHolmlund/BDS_M3_Exam_Notes.ipynb/main/Images/opportunity-attractiveness-png.png)\n",
        "\n",
        "![](https://raw.github.com/NadiaHolmlund/BDS_M3_Exam_Notes.ipynb/main/Images/agile-focus-png.png)\n",
        "\n",
        "![](https://raw.github.com/NadiaHolmlund/BDS_M3_Exam_Notes.ipynb/main/Images/flyability-w1.jpg)\n",
        "\n",
        "![](https://raw.github.com/NadiaHolmlund/BDS_M3_Exam_Notes.ipynb/main/Images/flyability-w2.jpg)\n",
        "\n",
        "![](https://raw.github.com/NadiaHolmlund/BDS_M3_Exam_Notes.ipynb/main/Images/flyability-w3.jpg)\n",
        "\n",
        "![](https://raw.github.com/NadiaHolmlund/BDS_M3_Exam_Notes.ipynb/main/Images/flyability-full-mon.jpg)"
      ],
      "metadata": {
        "id": "EZHflymDYdng"
      }
    },
    {
      "cell_type": "markdown",
      "source": [
        "## Session 2"
      ],
      "metadata": {
        "id": "rmFmKUM9Ze1O"
      }
    },
    {
      "cell_type": "markdown",
      "source": [
        "How to Play – tools for business model design\n",
        "\n",
        "To unlock the economic value of data-based projects a business model is needed. The Business model allow to connect an idea to the realization of an output in the market by specifying who is the customer, what is the value offered to the customer, how to reach it and how to make money, among other things.\n",
        "\n",
        "Participants will learn about the concept of\n",
        "- The business model\n",
        "- The business model canvas\n",
        "- The lean business model canvas"
      ],
      "metadata": {
        "id": "iNZ6S2xvZgCV"
      }
    },
    {
      "cell_type": "markdown",
      "source": [
        "### The concept of business model"
      ],
      "metadata": {
        "id": "rJAnVLc5gNRf"
      }
    },
    {
      "cell_type": "markdown",
      "source": [
        "Answers the following:\n",
        "- What is a buiness model\n",
        "- What are tools (frameworks) for visual representaiton of business models\n",
        "- What are the most valuable tools (how many should you familiarize)\n",
        "- Under hwat conditions is one better than another\n",
        "- What could you use them for\n",
        "\n",
        "Technology (a product) per se has no economic value (you need a business model to connect technology to a market - only then it has value)\n",
        "\n",
        "Customers do not want products, they want solutions to their perceived needs\n",
        "\n",
        "innovating products vs innovaitng business models\n",
        "\n",
        "business models represent a dimension of innovation\n",
        "\n",
        "different and complementary to more 'normal' dimensions of innovation\n",
        "\n",
        "![](https://raw.github.com/NadiaHolmlund/BDS_M3_Exam_Notes.ipynb/main/Images/Fig1_post-580x424.jpg)\n",
        "\n",
        "What is a business model:\n",
        "- A 'model' of the business\n",
        "- A concept capturing the logic for value creationg, delivery and capture that a firm employs to 'do business'\n",
        "\n",
        "How should you think about it in relationship to high-tech entrepreneurship\n",
        "- As the overall architecture of the business that connect your idea to a customer (and to revenues)\n",
        "- At the beginning you do not have a viable one - many pieces need to fit together --> search (pivot) - assumptions / facts\n",
        "\n",
        "![](https://raw.github.com/NadiaHolmlund/BDS_M3_Exam_Notes.ipynb/main/Images/Screenshot%202022-11-11%20at%2012.51.22.png)\n",
        "\n",
        "Start-up (defined by Steve Blank)\n",
        "- A temporary organization\n",
        "- Operating in conditions of extreme uncertainty\n",
        "- In search for a viable (repeatable and scalable) business model\n",
        "\n",
        "Sometimes the customer is another company (with its own business model) which suggests the following:\n",
        "- if your idea causes trouble in their business model you might encounter restistance towards the idea/product. the notion of a business model is beneficial in B2B settings\n",
        "\n",
        "![](https://raw.github.com/NadiaHolmlund/BDS_M3_Exam_Notes.ipynb/main/Images/Screenshot%202022-11-11%20at%2013.01.47.png)\n",
        "\n",
        "Business model is:\n",
        "- a 'model' of the business\n",
        "- a dimenstion of innovation\n",
        "- capturing the 'logic' for value creationg - capture\n",
        "- a 'bridge' between a product - technology (or an idea) and the realization of an output in the market (revenues)\n",
        "\n",
        "Business model - hot to think in entrep and early-stage companies\n",
        "- as the overall architecture of the business that connects your ideat to a customer (and to revenues)\n",
        "- By answering questions such as:\n",
        "  - Who is the customer\n",
        "  - What problem do we solve\n",
        "  - What do we get paid for\n",
        "  - If your customer is another company (B2B) you may want to understand their business model"
      ],
      "metadata": {
        "id": "DG3BMLXLgcg6"
      }
    },
    {
      "cell_type": "markdown",
      "source": [
        "### Business models and visual representation basics"
      ],
      "metadata": {
        "id": "huOsQxKlgRFx"
      }
    },
    {
      "cell_type": "markdown",
      "source": [
        "How can i represent a business model\n",
        " - Specific challenge/problem: Launching a new product\n",
        " - Recurrent challenge/problem: Use typical problems and solutions as a framework for new problems\n",
        "\n",
        "![](https://raw.github.com/NadiaHolmlund/BDS_M3_Exam_Notes.ipynb/main/Images/Screenshot%202022-11-11%20at%2013.09.56.png)\n",
        "\n",
        "Frameworks for the business model:\n",
        "- The business model canvas. Most famous because it's simple but powerful, very intuitive\n",
        "- Doesn't offer as much distinction between customers and the value exchange compared to platform business model canvas\n",
        "\n",
        "![](https://raw.github.com/NadiaHolmlund/BDS_M3_Exam_Notes.ipynb/main/Images/skabelon_business_model_canvas_poster.jpg)\n",
        "\n",
        "Other frameworks:\n",
        "\n",
        "- The paltform business model canvas\n",
        "  - the logic is on empahisixn how the value creation encapture logi, which is the value transaction or the value nwtwrok that exists between the center firm and a number of stakeholderrs / axchange partners. \n",
        "  - when to apply this framework: when you have highly networked situation, e.g. hopsitals. severla partners, e.g. sinsurance, partients, famliy, doctors, care providers, etc. the way the value is delivered happens because of the orchstrated actions of a number of stakeholders.\n",
        "  in cases like this, intersting to figure out who does what and what does the exchange partners exchange\n",
        "  it works how: the center firm and then you have the most external ring which are the stakeholders. stakeholder are predefined, but you can change them based on what you need to represent. \n",
        "  the two circle sspecify two things:\n",
        "  the external ring: value propostiition, for eah of the partners, explain what the value proprosition is\n",
        "  intenral ring: transactions, what is transacted, e.g. information, physicals problems, contract. \n",
        "\n",
        "![](https://raw.github.com/NadiaHolmlund/BDS_M3_Exam_Notes.ipynb/main/Images/0*L8i7Jk31zmR9p3wZ.png)\n",
        "\n",
        "![](https://raw.github.com/NadiaHolmlund/BDS_M3_Exam_Notes.ipynb/main/Images/pbmc-example-airbnb-bg.gif)\n",
        "\n",
        "The lean canvas\n",
        "- looks more like bmc, created as a modification of the original by entreprenurs\n",
        "- because: original put a lot of emphasis on key partners, key resources, key activites which at the beginning of a new venture are unspecified, e.g. startup as remporary organisation in unsure environemtn.\n",
        "- so at the beginning you don't know the key activitis, partner,s resources etc. you might have a hypothesis but they are not facts yet\n",
        "- lean doesn't support you to think what is most important, e.g. are we sure were solving a reasonalbe/ problem\n",
        "- important to specify and udnerstand potential users of the innovation\n",
        "- enterpreneur process is different than an existing firm\n",
        "\n",
        "![](https://raw.githubusercontent.com/NadiaHolmlund/BDS_M3_Exam_Notes.ipynb/main/Images/lean-canvas-template.png.webp)\n",
        "\n",
        "![](https://raw.github.com/NadiaHolmlund/BDS_M3_Exam_Notes.ipynb/main/Images/5LeanCanvasExamples-Google-883x1024.jpg)\n",
        "\n",
        "what are tools (frameworks) for visual represnation of business models\n",
        "- visual model for the 'general' business model\n",
        "- they offer ways to 'think', i.e. important to switch to not only think in one way\n",
        "\n",
        "what are the most valuable tools (how many should i now)\n",
        "- above three to cover 80/90% of situations\n",
        "\n",
        "what could you use them for\n",
        "- sketch your own business model (hypothesis - assumptions)\n",
        "- consider several optiosn at the same time (realoptionalism)\n",
        "\n",
        "\n"
      ],
      "metadata": {
        "id": "wczYXkxRlapF"
      }
    },
    {
      "cell_type": "markdown",
      "source": [
        "### Business model and visual representation beyong basics"
      ],
      "metadata": {
        "id": "fg_eo98zgWSF"
      }
    },
    {
      "cell_type": "markdown",
      "source": [
        "Best network for different situations:\n",
        "- General: Business model canvas for existing companies and industrial firms\n",
        "- Highly 'networked' situation: platform busines model\n",
        "- Entrepreneurship - corporate innovation: lean business model canvas\n",
        "\n",
        "what can you use them for:\n"
      ],
      "metadata": {
        "id": "PtGobHCJrQGA"
      }
    },
    {
      "cell_type": "markdown",
      "source": [
        "### The lean business model canvas"
      ],
      "metadata": {
        "id": "BfbDIYd1gZ1s"
      }
    },
    {
      "cell_type": "markdown",
      "source": [
        "Difference customer segments, subcomponent in lean.\n",
        "the s-curve. in the beginning few adopts the innovation, then steeper curve and then at some point it reaches full/fed up\n",
        "\n",
        "want to know who the adopters are, specify who they are by formulating hypothesis\n",
        "\n",
        "identify early adopters\n",
        "\n",
        "Additional topics\n",
        "- types of business model\n",
        "- bsuines model desing\n",
        "- busines models for sustainability\n",
        "- market opportunity navigator (how to play - where to play)"
      ],
      "metadata": {
        "id": "RUa3ZOUF1Ciw"
      }
    },
    {
      "cell_type": "markdown",
      "source": [
        "## Session 3"
      ],
      "metadata": {
        "id": "Dd5Ot6Y13dd1"
      }
    },
    {
      "cell_type": "markdown",
      "source": [
        "Sustainable Business Model Design\n",
        "\n",
        "Sustainability is becoming increasingly important. And, according to many commentators, advances in digital technologies have the potential to support solving sustainability challenges and also create new market opportunities. To be effective sustainability requires the design of sustainable business models. In this session, participants will be introduced to the topic of sustainable business model design, what it ism why it matters and, most importantly, how to make it happen in concrete and practical terms.\n",
        "\n",
        "Book Sustainable Business Model design: www.sustainablebusiness.design"
      ],
      "metadata": {
        "id": "JPQD66NF3e34"
      }
    },
    {
      "cell_type": "markdown",
      "source": [
        "chapter 1 – introduction"
      ],
      "metadata": {
        "id": "sjGpuWqx3idS"
      }
    },
    {
      "cell_type": "markdown",
      "source": [
        "Chapter 2 – Sustainable Business Model Design – the idea in brief"
      ],
      "metadata": {
        "id": "pwS3aNyB3lb9"
      }
    },
    {
      "cell_type": "markdown",
      "source": [
        "Chapter 3 – understanding and navigating patterns, plus first pattern group)"
      ],
      "metadata": {
        "id": "OEpHRDGa3pcS"
      }
    },
    {
      "cell_type": "markdown",
      "source": [
        "# Sustainble Business Model Design"
      ],
      "metadata": {
        "id": "-plfHmwf-HGF"
      }
    },
    {
      "cell_type": "markdown",
      "source": [
        "## Introduction"
      ],
      "metadata": {
        "id": "TRipmjstGDF_"
      }
    },
    {
      "cell_type": "markdown",
      "source": [
        "Present 45 patterns for the design of the nect generation sustainale business models, illustrating how innovative companies and visionary entrepreneurs have implemented hem, what sustainability challenges they have solved and whatinnovation opportunities they have captured.\n",
        "\n",
        "Business models designed to maintain and create value in ecological, social and economic terms. They developed 45 patterns for sutainbable business model design, i.e. innovative business model design that help create ecological, social and economc value for stakeholders.\n",
        "\n",
        "business model patterns are generalised business model solutions to recurrent problems in the value creation activities of organisations\n",
        "\n",
        "A pattern encapsulates knowledge in the form of a general rule: If you want X, do Y. This is why we say that a pattern offers knowledge for action. It shows us how to design solutions to enduring sustainability challenges – across organ- isations and across whole industries.\n",
        "\n",
        "There are four things we should keep in mind when working with patterns.\n",
        "Patterns can support sustaina- ble business model design, and hence sustainable value creation.\n",
        "\n",
        "First, many of the patterns presented in this book emphasise the tension between creating ecological and social value and reaching those goals profitably. Our focus is on the private sector, on companies. But, most if not all of the patterns we discuss also apply to other types of organisations, including non-profit and not-for-profit ones.\n",
        "\n",
        "Second, a pattern cannot be transformed directly into a set of actions or a plan. It’s not a recipe. Instead, it’s a template for designing a solution to a sustainability challenge, for con- tributing to sustainability through sustainable value creation. This is the advantage of working with patterns. Their solutions can be transferred from one company to another, and from one industry to another. But they have to be adapted to the conditions encountered by each company and organisation.\n",
        "\n",
        "Third, the patterns we present in this book are patterns for designing business models for sustainability. Each of themoffers a solution to a sustainability challenge, but even taken together they do not address all aspects of sustainability. The goal of becoming a fully sustainable business or designing a fully sustainable business model is, perhaps, idealistic. But this should not discourage you. Some companies and organisations show that it is possible to get pretty close to a wholly sustainable business model – acknowledging that they are of course not perfect.\n",
        "\n",
        "Fourth, patterns vary in many ways. An important distinction is in terms of scope. Each pattern in this book describes a solution to a sustainability challenge, but some apply to the whole business model, which we call prototypical patterns; others, modular patterns, to some of its parts; while still others, overarching patterns, to business and organisation design as a whole.\n",
        "\n",
        "real world sustainability challenges often require that we refine, adapt, and combine different patterns simultaneously if we are to design effective solutions.\n",
        "\n",
        "There are two complementary approaches to using patterns. In the problem-solving approach, patterns are used to identify solutions to already known challenges. While in the generative approach, patterns are used to identify new opportunities for sustainable value creation."
      ],
      "metadata": {
        "id": "urp4fk9W-LEx"
      }
    },
    {
      "cell_type": "markdown",
      "source": [
        "## Sustainable business model design - background"
      ],
      "metadata": {
        "id": "sLKqc8Y2GAgg"
      }
    },
    {
      "cell_type": "markdown",
      "source": [
        "A business model describes how a company does business. 1 Or, as the organisational theorist David Teece puts it, a business model ‘describes the design or architec- ture of the value creation, delivery, and capture mechanisms [a firm] employs.’\n",
        "\n",
        "Business model innovation redefines how products and services are combined into offerings, how customers and other stakeholders access and use these offerings, and how companies generate revenues from these activities. \n",
        "\n",
        "What is value creation:\n",
        "In standard economic theory, as well as in management theory, value creation is understood to comprise three aspects. The de- livery of benefits to customers, of revenue to the company, and, indirectly, of benefits to society stemming from the economic activity of the company. Value is created for a company’s cus- tomers, who purchase products and services to ‘get an important job done.’7 The profit a company makes from these sales creates value for its investors. And as a consequence of this economic activity, businesses pay taxes and create employment, thus creating value for society.8\n",
        "\n",
        "What is a sustainable business model:\n",
        "A sustainable business model is one whose rationale for value creation, delivery, and capture allows an organisation to contrib- ute to solving sustainability challenges\n",
        "and to promoting sustainable develop- ment.14 Or, in the language of global sustainability governance frameworks, sustainable business models contrib- ute to reaching the United Nations Sus- tainable Development Goals (SDGs)."
      ],
      "metadata": {
        "id": "x7R0WYbVGEp-"
      }
    },
    {
      "cell_type": "markdown",
      "source": [
        "## Understanding and navigating patterns"
      ],
      "metadata": {
        "id": "zDHSx8FZJz1r"
      }
    },
    {
      "cell_type": "markdown",
      "source": [
        "According to Christo-\n",
        "pher Alexander, an architect and design\n",
        "theorist who was instrumental in developing pattern theory, a pattern ‘describes a problem which occurs over and over again in our environment, and then describes the core of the solution to that problem, in such a way that you can use this solution a million times over, without ever doing it the same way twice.’2\n",
        "In essence, patterns are problem-solution combinations that encapsulate knowledge in the form of a general rule: If you are confronted with problem X, consider trying solution Y. Patterns offer knowledge for action.\n",
        "\n",
        "A pattern for sustainable business model design is a repeatable solution to enduring environmental, social, and economic challenges that arise when an organisation aims to create, deliver, or capture value in a sustainability-oriented manner.\n",
        "\n",
        "### Pattern types\n",
        "Patterns differ in their scope.6 After in-depth studies of each pattern\n",
        "in theory and in practice, we have identified three pattern types.\n",
        "\n",
        "First are those we call overarching patterns, as they describe how you can integrate major design principles into any aspect of business and organisational design (for example, see the Resource Efficiency and Productivity pattern on p. 92).\n",
        "\n",
        "The second type, prototypical patterns, are about how a company creates, delivers, and captures value, and so they serve to design or redesign the whole business model (for example, see the Green Razor and Blade pattern, which touches on various components of the business model, from product design to revenue model, on p. 88).\n",
        "\n",
        "The third type are so-called modular patterns, which show how you can innovate a specific part – or module – of your business model, whether resources, processes, products, communication channels, revenue sources, or something else (for example, see the Sustainable Product Design pattern on p. 96).\n",
        "\n",
        "Modular patterns can complete or complement prototypical patterns, just as they can help implement overarching patterns.\n",
        "\n",
        "![](https://raw.github.com/NadiaHolmlund/BDS_M3_Exam_Notes.ipynb/main/Images/Screenshot%202022-11-12%20at%2015.10.07.png)\n",
        "\n",
        "11 pattern groups and 45 patterns as shown below\n",
        "\n",
        "![](https://raw.github.com/NadiaHolmlund/BDS_M3_Exam_Notes.ipynb/main/Images/Screenshot%202022-11-12%20at%2015.13.47.png)\n",
        "\n",
        "Pattern navigation:\n",
        "We provide two ways to navigate the patterns: the Pattern Triangle and the 11 Guiding Questions related to the 11 pattern groups. Both offer helpful shortcuts for you to find the right patterns to explore.\n",
        "\n",
        "The pattern triangle:\n",
        "\n",
        "![](https://raw.github.com/NadiaHolmlund/BDS_M3_Exam_Notes.ipynb/main/Images/Screenshot%202022-11-12%20at%2015.14.05.png)\n",
        "\n",
        "11 guiding wuestions:\n",
        "\n",
        "![](https://raw.github.com/NadiaHolmlund/BDS_M3_Exam_Notes.ipynb/main/Images/Screenshot%202022-11-12%20at%2015.16.47.png)"
      ],
      "metadata": {
        "id": "6Q1MM-wfJ2bD"
      }
    },
    {
      "cell_type": "markdown",
      "source": [
        "## Pattern group 1: Pricing and Revenue Patterns"
      ],
      "metadata": {
        "id": "4BUhN-g6_uWZ"
      }
    },
    {
      "cell_type": "markdown",
      "source": [
        "These patterns define how the offerings of sustainable business models can be priced and revenues generated.\n",
        "\n",
        "— Differential Pricing\n",
        "— Social Freemium\n",
        "— Customer Financing\n",
        "— Subscription\n",
        "\n",
        "![](https://raw.github.com/NadiaHolmlund/BDS_M3_Exam_Notes.ipynb/main/Images/IMG_0017.PNG)\n",
        "\n",
        "![](https://raw.github.com/NadiaHolmlund/BDS_M3_Exam_Notes.ipynb/main/Images/IMG_0018.PNG)\n",
        "\n",
        "![](https://raw.github.com/NadiaHolmlund/BDS_M3_Exam_Notes.ipynb/main/Images/IMG_0019.PNG)\n",
        "\n",
        "![](https://raw.github.com/NadiaHolmlund/BDS_M3_Exam_Notes.ipynb/main/Images/IMG_0020.PNG)\n",
        "\n",
        "![](https://raw.github.com/NadiaHolmlund/BDS_M3_Exam_Notes.ipynb/main/Images/IMG_0021.PNG)\n",
        "\n",
        "![](https://raw.github.com/NadiaHolmlund/BDS_M3_Exam_Notes.ipynb/main/Images/IMG_0022.PNG)"
      ],
      "metadata": {
        "id": "HOVRZpEpNiDe"
      }
    },
    {
      "cell_type": "markdown",
      "source": [
        "# Theme 2: Managing Data Science Projects"
      ],
      "metadata": {
        "id": "JLb42H0PO_xq"
      }
    },
    {
      "cell_type": "markdown",
      "source": [
        "## Session 4\n",
        "\n",
        "Topic: Projects as vehicles to shape the future\n",
        "\n",
        "What is a project (in a business context) and why do we organize through projects?\n",
        "What is specific about data science projects?\n",
        "What is a successful project - and why is that sometimes hard to define?"
      ],
      "metadata": {
        "id": "Gc9IwhJiPBjx"
      }
    },
    {
      "cell_type": "markdown",
      "source": [
        "Session 4 - Part 1: Why projects?\n",
        "\n",
        "we live in a projectified society. changes are created through projects.\n",
        "\n",
        "why do we do projects:\n",
        "projects are different from operatins, because they deal with something new. project managment is 'the art and science of converting vision into reality'. a vehicle of changes. it allwos us to create something new in the future. about creating, shaping the future rather than repeating the same things over and over again.\n",
        "\n",
        "different approaches compared to creating goods, optimise flows etc. different logics.\n",
        "\n",
        "what is a project:\n",
        "\n",
        "![](https://raw.github.com/NadiaHolmlund/BDS_M3_Exam_Notes.ipynb/main/Images/Screenshot%202022-11-12%20at%2015.41.47.png)\n",
        "\n",
        "different types of projects:\n",
        "mostly known: uniwiue, some elements are slightly different but follow the same process, e.g. pharmaceutcial research where the the process for develop and testing of new drugs are standardised or web development projects. follow very structured approaches, new customer but go through the same\n",
        "\n",
        "intermediate: e.g. construction going from a house to 16 story building, some are the same but some are new. a bit more complex\n",
        "\n",
        "completely novel: pretty much everything is new, cutting edge tech development, exploring new things.\n",
        "\n",
        "data science is more to the right, a lot of exploration, share commmonalitites with open research and open wuestion. but still have certain strucutres,but a lot is uncertain\n",
        "\n",
        "![](https://raw.github.com/NadiaHolmlund/BDS_M3_Exam_Notes.ipynb/main/Images/Screenshot%202022-11-12%20at%2015.56.18.png)\n",
        "\n",
        "diffferent types of organisations: projects are the reason for being e.g. consultants, web design, agencies, construction, software prodividng customised solutions etc. only exist to take on projects for customers and run them. amin business is to create projects\n",
        "\n",
        "clear production operations but also need projects to keep moving, classicla manufacturing, pharma, eletrocnics. windoew, electronics. \n",
        "\n",
        "not a strong project history, kinda have the same flow of operations all the time. only use projects to change the organisation. not regular projects because it disrupts the organisaiton. i.e. they have less sense of how to appraoch projects.\n",
        "\n",
        "![](https://raw.github.com/NadiaHolmlund/BDS_M3_Exam_Notes.ipynb/main/Images/Screenshot%202022-11-12%20at%2015.56.33.png)\n",
        "\n",
        "Why do we do projects:\n",
        "- Organize work for somethin we do not do regularly (or that is different every time aeound)\n",
        "- To shape the future or create somethin new in a somewhat structured manner\n",
        "- To deal with uncertainty and complexity a we go along\n",
        "- To give a structure for collaboriotn for people (and organisation) that do not work together on a regular basis\n",
        "- a way to deal with uncertainty and complexity, the uncertainty of the future and also the complexity of linking things that have not been linked before\n",
        "\n",
        "organisng a project also means giving a structure to collaboration of people. create a legitimaxy and structure for different people in different departments to collaborate, that do not usually work together or organisations.\n",
        "\n"
      ],
      "metadata": {
        "id": "H1LBbTDbPVkU"
      }
    },
    {
      "cell_type": "markdown",
      "source": [
        "Session 4 - Part 2: What is special about data science projects?\n",
        "\n",
        "what are data science projects:\n",
        "five typical ds projects:\n",
        "\n",
        "related to data storage in the pipeline - creating and curating the systems in whcih the data is captured and excessed. availability, load time, data structues etc. the infrastructure\n",
        "\n",
        "analytics: stuff that creates reports, dasbhoards, answering specific wuestions, statistics etc. crunching numbers to find answers to wuestions\n",
        "\n",
        "applications: analytics and embedding the potential for analystics in applications, tools that captures data and allows the users to work with data. useful dashboards where people can play around with data\n",
        "\n",
        "security, excess and monitoring: have to be aware of, compliance with data on data handling, gdpr, internal confidentiality regulations. e.g. who can access what data\n",
        "\n",
        "cost optimisation: more about increasing cost efficiency in your data handling infrastructe, so where do you store your data, what kind of infrastructure is used. \n",
        "\n",
        "\n",
        "\n",
        "\n",
        "\n",
        "\n",
        "looking into 2 and 3 in this module\n",
        "\n",
        "characteristics of data science projects:\n",
        "\n",
        "depending on the infrastrucutre and discovery you will need to follow different data science projects models.\n",
        "\n",
        "![](https://raw.github.com/NadiaHolmlund/BDS_M3_Exam_Notes.ipynb/main/Images/Screenshot%202022-11-12%20at%2016.15.40.png)\n",
        "\n",
        "\n",
        "\n",
        "\n",
        "\n",
        "\n",
        "is data science and it project\n",
        "\n",
        "![](https://raw.github.com/NadiaHolmlund/BDS_M3_Exam_Notes.ipynb/main/Images/Screenshot%202022-11-12%20at%2016.15.51.png)\n",
        "\n",
        "data science project failure: 60-85% of big data science projects fail to go into production and generate any value. there seems to be a strong concernt hat data science projects fail, however the numbers are debatable. this gives a good reason to study how to do data science projects."
      ],
      "metadata": {
        "id": "TJ1oVZzZWRHO"
      }
    },
    {
      "cell_type": "markdown",
      "source": [
        "Session 4 - Part 3: What is a successful project?\n",
        "\n",
        "notions on failure:\n",
        "- project are abandonde\n",
        "- projects drag on forever\n",
        "- project outcomes are not used\n",
        "- projects cost too much\n",
        "\n",
        "\n",
        "\n",
        "\n",
        "how to define success:\n",
        "the iron triangle - probably not usefull or good for us to use, but good to know that it exists. the problem is that there is a paradox when looking at the real world, e.g. ds project creating a dashboard for a manufacturing flow where workers could see the performance of the machine. the dashboard fit the iron triangle, but the workers didn't use it, i.e. the project failed. other projects totally broke the triangle but are a succes, e.g. the sydney opera house. the problem with the triangle is that it follows a wrgon notion: on one hand yo can know and plan things beforehand, setting costs, timeline etc in a planned way, but it disregards that we do not evaluate projects according to these factors but in subjective or intuitive ways. we dont look at the output but the outcome\n",
        "\n",
        "result: a shift in sucess perception and discourse\n",
        "\n"
      ],
      "metadata": {
        "id": "uzPdQ5K-ar78"
      }
    },
    {
      "cell_type": "markdown",
      "source": [
        "# M3 project"
      ],
      "metadata": {
        "id": "B1AsLxuA4bWp"
      }
    },
    {
      "cell_type": "markdown",
      "source": [
        "## Maternity\n",
        "- Clustering: Cluster users based on user information and their interaction with content on the app\n",
        "    - Perform EDA based on clusters to create user profiles (marketing method)\n",
        "    - Create content strategies for each user profile focusing on push-notifications and content creation (marketing method)\n",
        "    - E.g. perform dimensionality reduction to exclude unneeded content for specific user profiles"
      ],
      "metadata": {
        "id": "1ErgrYOo4eCS"
      }
    },
    {
      "cell_type": "markdown",
      "source": [
        "## People in Sports:\n",
        "\n",
        "Citation from their website:\n",
        "\n",
        "“Vi tager kort fortalt en fast procentdel af en spillers kontraktløn. (…) Og det er klart, at etablerede spillere med attraktive kontrakter dermed betaler for, at det unge talent fra start får den rette rådgivning gratis.”\n",
        "\n",
        "Translation:\n",
        "\n",
        "“In short, we take a fixed percentage of a player's contract salary. (…) And it’s clear that established players with attractive contracts thus pay for the young talent to receive the right advice for free from the beginning.”\n",
        "\n",
        "Need identified: Scout and recruit new players with potential of signing a contract\n",
        "\n",
        "Data Science approaches to identify players with potential:\n",
        "- Dimensionality reduction: Reduce the 450 metrics per player to identify the most important ones, e.g. divided by position (goalkeeper, defence, midfielder, forward or perhaps specified even further)\n",
        "- Regression: Rate the player based on metrics\n",
        "- Prediction: Predict the players market value based on metrics\n",
        "- Similarity: Identify similar players based on metrics\n",
        "\n",
        "Application:\n",
        "- Input:\n",
        "    - Metrics of a player that People in Sports consider to recruit (reduced metrics based on position, e.g. age, ball control, agility, aggression etc.)\n",
        "- Output:\n",
        "    - The player’s rating (e.g. adding what increases/decreases the rating using Eli5/other)\n",
        "    - The player’s metrics in a radar graph compared to top performers, i.e. visualising potential player deficiencies \n",
        "    - The player’s predicted market value (e.g. adding what increases/decreases the value using Eli5/other)\n",
        "    - Similar players (e.g. which positions they play, which clubs they play in, etc.)\n",
        "- Fancy pancy stuff\n",
        "    - Chatbot explaining what the application can be used for, how it works, the data science behind it, terms, etc.\n",
        "\n",
        "Inspiration (from 2018, newer datasets exist as well):\n",
        "\n",
        "Report based on Kaggle dataset: https://www.sas.com/content/dam/SAS/support/en/sas-global-forum-proceedings/2019/3828-2019.pdf\n",
        "\n",
        "R shiny application based on Kaggle dataset: https://ekrem-bayar.shinyapps.io/FifaDash/\n",
        "\n",
        "Fifa Kaggle dataset: https://www.kaggle.com/datasets/thec03u5/fifa-18-demo-player-dataset?datasetId=2547&sortBy=voteCount"
      ],
      "metadata": {
        "id": "trU5pBtn4jcT"
      }
    }
  ]
}